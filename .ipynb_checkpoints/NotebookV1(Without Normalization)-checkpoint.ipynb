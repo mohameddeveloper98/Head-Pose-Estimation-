{
 "cells": [
  {
   "cell_type": "code",
   "execution_count": null,
   "id": "d552ff3c",
   "metadata": {},
   "outputs": [],
   "source": [
    "# !pip install mediapipe opencv-python"
   ]
  },
  {
   "cell_type": "code",
   "execution_count": 40,
   "id": "49828bef",
   "metadata": {},
   "outputs": [],
   "source": [
    "# import mediapipe and opencv\n",
    "import mediapipe as mp\n",
    "import cv2\n",
    "import glob\n",
    "import numpy as np\n",
    "import csv\n",
    "import os\n",
    "from mat4py import loadmat\n",
    "import scipy.io as sio\n",
    "import math"
   ]
  },
  {
   "cell_type": "code",
   "execution_count": null,
   "id": "ee50dca5",
   "metadata": {},
   "outputs": [],
   "source": [
    "\n"
   ]
  },
  {
   "cell_type": "code",
   "execution_count": 41,
   "id": "bc0099a6",
   "metadata": {},
   "outputs": [],
   "source": [
    "mp_drawing = mp.solutions.drawing_utils # Drawing helpers\n",
    "mp_holistic = mp.solutions.holistic # Mediapipe Solutions\n",
    "mp_drawing_styles = mp.solutions.drawing_styles\n"
   ]
  },
  {
   "cell_type": "code",
   "execution_count": null,
   "id": "aed69b7b",
   "metadata": {},
   "outputs": [],
   "source": []
  },
  {
   "cell_type": "code",
   "execution_count": 42,
   "id": "0f5724bd",
   "metadata": {},
   "outputs": [],
   "source": [
    "paths,paths_mat=[],[]\n",
    "# get the path/directory\n",
    "folder_dir =\"C:\\\\Users\\\\ahmad\\Downloads\\AFLW2000\"\n",
    "\n",
    "# iterate over files in\n",
    "# that directory\n",
    "for images in glob.iglob(f'{folder_dir}/*'):\n",
    "\n",
    "    # check if the image ends with png\n",
    "    if (images.endswith(\".jpg\")):\n",
    "#         print(images)\n",
    "        paths.append(images)"
   ]
  },
  {
   "cell_type": "code",
   "execution_count": 43,
   "id": "772092a8",
   "metadata": {},
   "outputs": [
    {
     "data": {
      "text/plain": [
       "2000"
      ]
     },
     "execution_count": 43,
     "metadata": {},
     "output_type": "execute_result"
    }
   ],
   "source": [
    "len(paths)"
   ]
  },
  {
   "cell_type": "code",
   "execution_count": 44,
   "id": "d7b64f26",
   "metadata": {},
   "outputs": [],
   "source": [
    "with mp_holistic.Holistic(min_detection_confidence=0.5, min_tracking_confidence=0.5) as holistic: \n",
    "\n",
    "    for idx, file in enumerate(paths):\n",
    "        image = cv2.imread(file)\n",
    "        image_height, image_width, _ = image.shape\n",
    "        # Convert the BGR image to RGB before processing.\n",
    "        results = holistic.process(cv2.cvtColor(image, cv2.COLOR_BGR2RGB))\n",
    "#         results = holistic.process(image)\n",
    "#         print(results.face_landmarks)\n",
    "        mp_drawing.draw_landmarks(image, results.face_landmarks, mp_holistic.FACEMESH_TESSELATION, \n",
    "                                 mp_drawing.DrawingSpec(color=(80,110,10), thickness=1, circle_radius=1),\n",
    "                                 mp_drawing.DrawingSpec(color=(80,256,121), thickness=1, circle_radius=1)\n",
    "                                 )\n",
    "        \n",
    "        \n",
    "        break\n"
   ]
  },
  {
   "cell_type": "code",
   "execution_count": 45,
   "id": "c7d1dcb0",
   "metadata": {},
   "outputs": [
    {
     "data": {
      "text/plain": [
       "x: 0.47754186391830444\n",
       "y: 0.6920552253723145\n",
       "z: -0.018991734832525253"
      ]
     },
     "execution_count": 45,
     "metadata": {},
     "output_type": "execute_result"
    }
   ],
   "source": [
    "results.face_landmarks.landmark[0]"
   ]
  },
  {
   "cell_type": "code",
   "execution_count": 46,
   "id": "d6411df6",
   "metadata": {},
   "outputs": [
    {
     "data": {
      "text/plain": [
       "468"
      ]
     },
     "execution_count": 46,
     "metadata": {},
     "output_type": "execute_result"
    }
   ],
   "source": [
    "num_coords = len(results.face_landmarks.landmark)\n",
    "num_coords"
   ]
  },
  {
   "cell_type": "code",
   "execution_count": null,
   "id": "509665ef",
   "metadata": {},
   "outputs": [],
   "source": [
    "landmarks = []\n",
    "for val in range(1, num_coords+1):\n",
    "    landmarks += ['x{}'.format(val), 'y{}'.format(val)]\n",
    "# landmarks\n",
    "angles=['pitch','yaw','roll']\n",
    "data = landmarks+angles"
   ]
  },
  {
   "cell_type": "code",
   "execution_count": null,
   "id": "32688cf1",
   "metadata": {},
   "outputs": [],
   "source": [
    "with open('landmarks_data.csv', mode='w', newline='') as f:\n",
    "    csv_writer = csv.writer(f, delimiter=',', quotechar='\"', quoting=csv.QUOTE_MINIMAL)\n",
    "    csv_writer.writerow(data)"
   ]
  },
  {
   "cell_type": "code",
   "execution_count": 47,
   "id": "502410ba",
   "metadata": {},
   "outputs": [
    {
     "data": {
      "text/plain": [
       "'image00002.'"
      ]
     },
     "execution_count": 47,
     "metadata": {},
     "output_type": "execute_result"
    }
   ],
   "source": [
    "paths[0].split('\\\\')[-1].replace('jpg','')"
   ]
  },
  {
   "cell_type": "code",
   "execution_count": null,
   "id": "36168297",
   "metadata": {},
   "outputs": [],
   "source": [
    "with mp_holistic.Holistic(min_detection_confidence=0.5, min_tracking_confidence=0.5) as holistic:\n",
    "\n",
    "    for idx, file in enumerate(paths):\n",
    "        count=0\n",
    "        image = cv2.imread(file)\n",
    "        image_height, image_width, _ = image.shape\n",
    "#         Convert the BGR image to RGB before processing.\n",
    "        results = holistic.process(cv2.cvtColor(image, cv2.COLOR_BGR2RGB))\n",
    "\n",
    "        try:\n",
    "           \n",
    "            face = results.face_landmarks.landmark\n",
    "            NoseX = results.pose_landmarks.landmark[mp_holistic.PoseLandmark.NOSE].x * image_width\n",
    "            NoseY=results.pose_landmarks.landmark[mp_holistic.PoseLandmark.NOSE].y   *image_height\n",
    "            LfeoX = results.pose_landmarks.landmark[mp_holistic.PoseLandmark.LEFT_EYE_OUTER].x *image_width\n",
    "            LfeoY = results.pose_landmarks.landmark[mp_holistic.PoseLandmark.LEFT_EYE_OUTER].y* image_height\n",
    "            \n",
    "            dist = math.dist([NoseX, NoseY], [LfeoX, LfeoY])\n",
    "        \n",
    "            \n",
    "            \n",
    "            \n",
    "            \n",
    "            \n",
    "            face_row = list(np.array([[   ((landmark.x *image_width)-NoseX)/dist, \n",
    "                                            ((landmark.y*image_height)-NoseY)/dist] for landmark in face]).flatten())\n",
    "            \n",
    "            random_file = file.split('\\\\')[-1].replace('.jpg' , '')\n",
    "            mat_file = sio.loadmat('C:\\\\Users\\\\ahmad\\\\Downloads\\\\AFLW2000\\\\'+ random_file+ '.mat')\n",
    "            pose_para = mat_file[\"Pose_Para\"][0][:3]\n",
    "            pitch = pose_para[0]\n",
    "            yaw = pose_para[1]\n",
    "            roll = pose_para[2]\n",
    "            face_row.insert(((468*2)+0),pitch)\n",
    "            face_row.insert(((468*2)+1),yaw)\n",
    "            face_row.insert(((468*2)+2),roll)\n",
    "            \n",
    "            with open('landmarks_data.csv', mode='a', newline='') as f:\n",
    "                csv_writer = csv.writer(f, delimiter=',', quotechar='\"', quoting=csv.QUOTE_MINIMAL)\n",
    "                csv_writer.writerow(face_row) \n",
    "                \n",
    "        except:\n",
    "            pass\n",
    "        "
   ]
  },
  {
   "cell_type": "code",
   "execution_count": null,
   "id": "590c07ae",
   "metadata": {},
   "outputs": [],
   "source": []
  },
  {
   "cell_type": "markdown",
   "id": "51c70889",
   "metadata": {},
   "source": [
    "# Read and Prepare Data"
   ]
  },
  {
   "cell_type": "code",
   "execution_count": 48,
   "id": "51df8af8",
   "metadata": {},
   "outputs": [],
   "source": [
    "import pandas as pd\n",
    "from sklearn.model_selection import train_test_split"
   ]
  },
  {
   "cell_type": "code",
   "execution_count": 49,
   "id": "9ecc94e1",
   "metadata": {},
   "outputs": [
    {
     "data": {
      "text/html": [
       "<div>\n",
       "<style scoped>\n",
       "    .dataframe tbody tr th:only-of-type {\n",
       "        vertical-align: middle;\n",
       "    }\n",
       "\n",
       "    .dataframe tbody tr th {\n",
       "        vertical-align: top;\n",
       "    }\n",
       "\n",
       "    .dataframe thead th {\n",
       "        text-align: right;\n",
       "    }\n",
       "</style>\n",
       "<table border=\"1\" class=\"dataframe\">\n",
       "  <thead>\n",
       "    <tr style=\"text-align: right;\">\n",
       "      <th></th>\n",
       "      <th>x1</th>\n",
       "      <th>y1</th>\n",
       "      <th>x2</th>\n",
       "      <th>y2</th>\n",
       "      <th>x3</th>\n",
       "      <th>y3</th>\n",
       "      <th>x4</th>\n",
       "      <th>y4</th>\n",
       "      <th>x5</th>\n",
       "      <th>y5</th>\n",
       "      <th>...</th>\n",
       "      <th>y465</th>\n",
       "      <th>x466</th>\n",
       "      <th>y466</th>\n",
       "      <th>x467</th>\n",
       "      <th>y467</th>\n",
       "      <th>x468</th>\n",
       "      <th>y468</th>\n",
       "      <th>pitch</th>\n",
       "      <th>yaw</th>\n",
       "      <th>roll</th>\n",
       "    </tr>\n",
       "  </thead>\n",
       "  <tbody>\n",
       "    <tr>\n",
       "      <th>0</th>\n",
       "      <td>-0.159295</td>\n",
       "      <td>0.300003</td>\n",
       "      <td>-0.169120</td>\n",
       "      <td>0.067671</td>\n",
       "      <td>-0.146352</td>\n",
       "      <td>0.109180</td>\n",
       "      <td>-0.190952</td>\n",
       "      <td>-0.301066</td>\n",
       "      <td>-0.161892</td>\n",
       "      <td>-0.022124</td>\n",
       "      <td>...</td>\n",
       "      <td>-0.640003</td>\n",
       "      <td>0.132219</td>\n",
       "      <td>-0.604989</td>\n",
       "      <td>0.751723</td>\n",
       "      <td>-0.761274</td>\n",
       "      <td>0.807323</td>\n",
       "      <td>-0.806983</td>\n",
       "      <td>-0.399231</td>\n",
       "      <td>0.018227</td>\n",
       "      <td>0.085676</td>\n",
       "    </tr>\n",
       "    <tr>\n",
       "      <th>1</th>\n",
       "      <td>-0.334478</td>\n",
       "      <td>0.261430</td>\n",
       "      <td>-0.472663</td>\n",
       "      <td>-0.051103</td>\n",
       "      <td>-0.284650</td>\n",
       "      <td>0.053159</td>\n",
       "      <td>-0.358159</td>\n",
       "      <td>-0.332285</td>\n",
       "      <td>-0.480441</td>\n",
       "      <td>-0.137888</td>\n",
       "      <td>...</td>\n",
       "      <td>-0.525273</td>\n",
       "      <td>0.037087</td>\n",
       "      <td>-0.505745</td>\n",
       "      <td>0.562256</td>\n",
       "      <td>-0.565438</td>\n",
       "      <td>0.632099</td>\n",
       "      <td>-0.617696</td>\n",
       "      <td>0.470065</td>\n",
       "      <td>1.189533</td>\n",
       "      <td>0.300959</td>\n",
       "    </tr>\n",
       "    <tr>\n",
       "      <th>2</th>\n",
       "      <td>-0.981481</td>\n",
       "      <td>1.076963</td>\n",
       "      <td>-0.956155</td>\n",
       "      <td>0.954189</td>\n",
       "      <td>-0.976846</td>\n",
       "      <td>0.985318</td>\n",
       "      <td>-1.013231</td>\n",
       "      <td>0.778098</td>\n",
       "      <td>-0.954629</td>\n",
       "      <td>0.903266</td>\n",
       "      <td>...</td>\n",
       "      <td>0.634062</td>\n",
       "      <td>-0.919076</td>\n",
       "      <td>0.647000</td>\n",
       "      <td>-0.675460</td>\n",
       "      <td>0.588512</td>\n",
       "      <td>-0.651586</td>\n",
       "      <td>0.567591</td>\n",
       "      <td>-0.184650</td>\n",
       "      <td>0.881137</td>\n",
       "      <td>-0.236852</td>\n",
       "    </tr>\n",
       "    <tr>\n",
       "      <th>3</th>\n",
       "      <td>0.127447</td>\n",
       "      <td>0.433119</td>\n",
       "      <td>-0.086203</td>\n",
       "      <td>0.200610</td>\n",
       "      <td>0.035008</td>\n",
       "      <td>0.228611</td>\n",
       "      <td>-0.239562</td>\n",
       "      <td>-0.172509</td>\n",
       "      <td>-0.133581</td>\n",
       "      <td>0.104239</td>\n",
       "      <td>...</td>\n",
       "      <td>-0.642603</td>\n",
       "      <td>0.021166</td>\n",
       "      <td>-0.595805</td>\n",
       "      <td>0.629668</td>\n",
       "      <td>-0.972822</td>\n",
       "      <td>0.673793</td>\n",
       "      <td>-1.040024</td>\n",
       "      <td>-0.175379</td>\n",
       "      <td>0.299208</td>\n",
       "      <td>-0.373374</td>\n",
       "    </tr>\n",
       "    <tr>\n",
       "      <th>4</th>\n",
       "      <td>-0.078761</td>\n",
       "      <td>0.400796</td>\n",
       "      <td>-0.344684</td>\n",
       "      <td>0.090758</td>\n",
       "      <td>-0.104594</td>\n",
       "      <td>0.147864</td>\n",
       "      <td>-0.317465</td>\n",
       "      <td>-0.235742</td>\n",
       "      <td>-0.383646</td>\n",
       "      <td>-0.000681</td>\n",
       "      <td>...</td>\n",
       "      <td>-0.595326</td>\n",
       "      <td>-0.004369</td>\n",
       "      <td>-0.552671</td>\n",
       "      <td>0.427108</td>\n",
       "      <td>-0.790101</td>\n",
       "      <td>0.482372</td>\n",
       "      <td>-0.853066</td>\n",
       "      <td>-0.882169</td>\n",
       "      <td>1.198003</td>\n",
       "      <td>-1.033374</td>\n",
       "    </tr>\n",
       "  </tbody>\n",
       "</table>\n",
       "<p>5 rows × 939 columns</p>\n",
       "</div>"
      ],
      "text/plain": [
       "         x1        y1        x2        y2        x3        y3        x4  \\\n",
       "0 -0.159295  0.300003 -0.169120  0.067671 -0.146352  0.109180 -0.190952   \n",
       "1 -0.334478  0.261430 -0.472663 -0.051103 -0.284650  0.053159 -0.358159   \n",
       "2 -0.981481  1.076963 -0.956155  0.954189 -0.976846  0.985318 -1.013231   \n",
       "3  0.127447  0.433119 -0.086203  0.200610  0.035008  0.228611 -0.239562   \n",
       "4 -0.078761  0.400796 -0.344684  0.090758 -0.104594  0.147864 -0.317465   \n",
       "\n",
       "         y4        x5        y5  ...      y465      x466      y466      x467  \\\n",
       "0 -0.301066 -0.161892 -0.022124  ... -0.640003  0.132219 -0.604989  0.751723   \n",
       "1 -0.332285 -0.480441 -0.137888  ... -0.525273  0.037087 -0.505745  0.562256   \n",
       "2  0.778098 -0.954629  0.903266  ...  0.634062 -0.919076  0.647000 -0.675460   \n",
       "3 -0.172509 -0.133581  0.104239  ... -0.642603  0.021166 -0.595805  0.629668   \n",
       "4 -0.235742 -0.383646 -0.000681  ... -0.595326 -0.004369 -0.552671  0.427108   \n",
       "\n",
       "       y467      x468      y468     pitch       yaw      roll  \n",
       "0 -0.761274  0.807323 -0.806983 -0.399231  0.018227  0.085676  \n",
       "1 -0.565438  0.632099 -0.617696  0.470065  1.189533  0.300959  \n",
       "2  0.588512 -0.651586  0.567591 -0.184650  0.881137 -0.236852  \n",
       "3 -0.972822  0.673793 -1.040024 -0.175379  0.299208 -0.373374  \n",
       "4 -0.790101  0.482372 -0.853066 -0.882169  1.198003 -1.033374  \n",
       "\n",
       "[5 rows x 939 columns]"
      ]
     },
     "execution_count": 49,
     "metadata": {},
     "output_type": "execute_result"
    }
   ],
   "source": [
    "df=pd.read_csv('landmarks_data.csv')\n",
    "df.head()"
   ]
  },
  {
   "cell_type": "code",
   "execution_count": 50,
   "id": "e80bc97f",
   "metadata": {},
   "outputs": [],
   "source": [
    "#Features\n",
    "x=df.drop(['pitch','yaw','roll'], axis=1)\n",
    "#Pitch label\n",
    "yp=df['pitch']\n",
    "#Yaw label\n",
    "yy=df['yaw']\n",
    "#roll label\n",
    "yr=df['roll']\n",
    "#labels\n",
    "yall =df[['pitch','yaw','roll']]"
   ]
  },
  {
   "cell_type": "code",
   "execution_count": 51,
   "id": "1add621b",
   "metadata": {},
   "outputs": [],
   "source": [
    "#************************************************ PITCH ****************************************************************\n",
    "\n",
    "X_train_p, X_val_p, y_train_p, y_val_p = train_test_split(x, yp, test_size=0.2, random_state=1234)\n",
    "\n",
    "X_val_p, X_test_p, y_val_p, y_test_p = train_test_split(X_val_p, y_val_p, test_size=0.5, random_state=1234)\n",
    "\n",
    "\n",
    "#************************************************* YAW ******************************************************************\n",
    "\n",
    "X_train_y, X_val_y, y_train_y, y_val_y = train_test_split(x, yy, test_size=0.2, shuffle=True,random_state=1234)\n",
    "\n",
    "X_val_y, X_test_y, y_val_y, y_test_y = train_test_split(X_val_y, y_val_y, test_size=0.5, shuffle=True,random_state=1234)\n",
    "\n",
    "\n",
    "#*********************************************** Roll *******************************************************************\n",
    "\n",
    "X_train_r, X_val_r, y_train_r, y_val_r = train_test_split(x, yr, test_size=0.2,shuffle=True, random_state=1234)\n",
    "\n",
    "X_val_r, X_test_r, y_val_r, y_test_r = train_test_split(X_val_r, y_val_r, test_size=0.5,shuffle=True, random_state=1234)\n",
    "\n",
    "\n",
    "#*************************************************** ALL ****************************************************************\n",
    "\n",
    "\n",
    "X_train_all, X_val_all, y_train_all, y_val_all = train_test_split(x, yall, test_size=0.2,shuffle=True, random_state=1234)\n",
    "\n",
    "X_val_all, X_test_all, y_val_all, y_test_all = train_test_split(X_val_all, y_val_all, test_size=0.5,shuffle=True, random_state=1234)\n",
    "\n"
   ]
  },
  {
   "cell_type": "code",
   "execution_count": null,
   "id": "796f373c",
   "metadata": {},
   "outputs": [],
   "source": []
  },
  {
   "cell_type": "markdown",
   "id": "a512e684",
   "metadata": {},
   "source": [
    "# Train Machine Learning Models"
   ]
  },
  {
   "cell_type": "code",
   "execution_count": 52,
   "id": "76cae38d",
   "metadata": {},
   "outputs": [],
   "source": [
    "from sklearn.model_selection import train_test_split\n",
    "from sklearn.preprocessing import StandardScaler, RobustScaler, MinMaxScaler, MaxAbsScaler, QuantileTransformer, PowerTransformer, PolynomialFeatures\n",
    "from sklearn.decomposition import PCA\n",
    "from sklearn.linear_model import LinearRegression\n",
    "from sklearn.linear_model import Ridge , ridge_regression,Lasso\n",
    "from sklearn.multioutput import MultiOutputRegressor\n",
    "from sklearn.ensemble import RandomForestRegressor, VotingRegressor,BaggingRegressor,ExtraTreesRegressor\n",
    "from sklearn.pipeline import make_pipeline, FeatureUnion\n",
    "from sklearn.metrics import mean_squared_error, r2_score\n",
    "from sklearn.svm import SVR\n",
    "from sklearn.ensemble import GradientBoostingRegressor, AdaBoostRegressor\n",
    "from sklearn.preprocessing import StandardScaler, RobustScaler, MinMaxScaler, MaxAbsScaler\n",
    "from sklearn.tree import DecisionTreeRegressor\n",
    "from sklearn.metrics import mean_squared_error\n",
    "from sklearn.neighbors import KNeighborsRegressor\n",
    "from sklearn.metrics import accuracy_score \n",
    "from sklearn.linear_model import OrthogonalMatchingPursuit\n",
    "from sklearn.datasets import make_regression\n",
    "import sklearn.linear_model\n",
    "from sklearn.impute import KNNImputer"
   ]
  },
  {
   "cell_type": "markdown",
   "id": "c53edd65",
   "metadata": {},
   "source": [
    "# YAW"
   ]
  },
  {
   "cell_type": "code",
   "execution_count": 53,
   "id": "d98830f4",
   "metadata": {},
   "outputs": [],
   "source": [
    "pipelines = {\n",
    "#     'lr_pca':make_pipeline(StandardScaler(),PCA(n_components=0.99), LinearRegression()),\n",
    "    'rf_pca':make_pipeline(StandardScaler(),PCA(n_components=0.99), RandomForestRegressor())\n",
    "#     ,'lr_wpca':make_pipeline(PCA(n_components=0.99),LinearRegression()),\n",
    "#     'rf_wpca':make_pipeline(PCA(n_components=0.99),RandomForestRegressor()),\n",
    "#     'DT'    :make_pipeline(DecisionTreeRegressor()),\n",
    "#     'DTpca' :make_pipeline(PCA(n_components=0.99),DecisionTreeRegressor()),\n",
    "#     'rfpcap' :make_pipeline(   RandomForestRegressor(n_estimators=30, n_jobs=-1))\n",
    "# \n",
    "}\n",
    "\n"
   ]
  },
  {
   "cell_type": "code",
   "execution_count": 54,
   "id": "3de2f290",
   "metadata": {},
   "outputs": [],
   "source": [
    "yaw_fit_models = {}\n",
    "for algo, pipeline in pipelines.items():\n",
    "    model = pipeline.fit(X_train_y, y_train_y)\n",
    "    yaw_fit_models[algo] = model\n"
   ]
  },
  {
   "cell_type": "code",
   "execution_count": 55,
   "id": "940ed506",
   "metadata": {},
   "outputs": [],
   "source": [
    "Train_pred_yaw      = yaw_fit_models['rf_pca'].predict(X_train_y)\n",
    "Validation_pred_yaw = yaw_fit_models['rf_pca'].predict(X_val_y)\n",
    "yaw_hat=yaw_fit_models['rf_pca'].predict(X_test_y)"
   ]
  },
  {
   "cell_type": "code",
   "execution_count": 56,
   "id": "1d334bab",
   "metadata": {},
   "outputs": [
    {
     "name": "stdout",
     "output_type": "stream",
     "text": [
      "Train MSE  0.011521412874006378\n",
      "Validation MSE  0.020970122846394417\n",
      "\n",
      "###########################\n",
      "\n",
      "Train r2_score  0.9655001294449068\n",
      "Validation r2_score  0.9397786900959116\n",
      "Test r2_score  0.9343829251034373\n",
      "\n",
      "###########################\n",
      "\n",
      "Train score  0.9655001294449068\n",
      "Validation Score  0.9397786900959116\n",
      "test score:  0.9343829251034373\n",
      "\n",
      "###########################\n",
      "\n"
     ]
    }
   ],
   "source": [
    "print(\"Train MSE \"       , mean_squared_error( y_train_y,Train_pred_yaw ))\n",
    "print(\"Validation MSE \"  , mean_squared_error( y_val_y,Validation_pred_yaw ))\n",
    "\n",
    "print(\"\\n###########################\\n\")\n",
    "\n",
    "print(\"Train r2_score \"            , r2_score(y_train_y,Train_pred_yaw))\n",
    "print(\"Validation r2_score \"       , r2_score( y_val_y, Validation_pred_yaw))\n",
    "print(\"Test r2_score \"             , r2_score(y_test_y , yaw_hat))\n",
    "print(\"\\n###########################\\n\")\n",
    "\n",
    "print(\"Train score \"                   , yaw_fit_models['rf_pca'].score(X_train_y , y_train_y))\n",
    "print(\"Validation Score \"              , yaw_fit_models['rf_pca'].score(X_val_y, y_val_y))\n",
    "print(\"test score: \"                   ,yaw_fit_models ['rf_pca'].score(X_test_y, y_test_y))\n",
    " \n",
    "print(\"\\n###########################\\n\")"
   ]
  },
  {
   "cell_type": "code",
   "execution_count": 57,
   "id": "c3d69426",
   "metadata": {},
   "outputs": [],
   "source": [
    "import pickle \n",
    "\n",
    "with open('yaw_model.pkl', 'wb') as f:\n",
    "    pickle.dump(yaw_fit_models ['rf_pca'], f)\n",
    "\n"
   ]
  },
  {
   "cell_type": "markdown",
   "id": "2191f68e",
   "metadata": {},
   "source": [
    "# Roll"
   ]
  },
  {
   "cell_type": "code",
   "execution_count": 58,
   "id": "8cd78015",
   "metadata": {},
   "outputs": [],
   "source": [
    "pipelines = {\n",
    "#     'rf_pca':make_pipeline(StandardScaler(),PCA(n_components=0.99), RandomForestRegressor()),\n",
    "#     'DTpca' :make_pipeline(PCA(n_components=0.99),DecisionTreeRegressor()),\n",
    "    'rfpcap' :make_pipeline(PCA(n_components=0.99), RandomForestRegressor(n_estimators=200)),\n",
    "\n",
    "\n",
    "\n",
    "}\n"
   ]
  },
  {
   "cell_type": "code",
   "execution_count": 59,
   "id": "2a95b8d7",
   "metadata": {},
   "outputs": [],
   "source": [
    "roll_fit_models = {}\n",
    "for algo, pipeline in pipelines.items():\n",
    "    model = pipeline.fit(X_train_r, y_train_r)\n",
    "    roll_fit_models[algo] = model\n"
   ]
  },
  {
   "cell_type": "code",
   "execution_count": 60,
   "id": "12554e09",
   "metadata": {},
   "outputs": [],
   "source": [
    "Train_pred_roll     = roll_fit_models  ['rfpcap'].predict(X_train_r)\n",
    "Validation_pred_roll = roll_fit_models ['rfpcap'].predict(X_val_r)\n",
    "roll_hat             =roll_fit_models  ['rfpcap'].predict(X_test_r)"
   ]
  },
  {
   "cell_type": "code",
   "execution_count": 61,
   "id": "5c884d9f",
   "metadata": {},
   "outputs": [
    {
     "name": "stdout",
     "output_type": "stream",
     "text": [
      "Train MSE  0.06371464804570975\n",
      "Validation MSE  0.017422679974962968\n",
      "\n",
      "###########################\n",
      "\n",
      "Train r2_score  0.873678788638501\n",
      "Validation r2_score  0.7696446711504402\n",
      "Test r2_score  0.6918762603996581\n",
      "\n",
      "###########################\n",
      "\n",
      "Train score  0.873678788638501\n",
      "Validation Score  0.7696446711504402\n",
      "test score:  0.6918762603996581\n",
      "\n",
      "###########################\n",
      "\n"
     ]
    }
   ],
   "source": [
    "print(\"Train MSE \"       , mean_squared_error( y_train_r,Train_pred_roll ))\n",
    "print(\"Validation MSE \"  , mean_squared_error( y_val_r,Validation_pred_roll ))\n",
    "\n",
    "print(\"\\n###########################\\n\")\n",
    "\n",
    "print(\"Train r2_score \"            , r2_score(y_train_r,Train_pred_roll))\n",
    "print(\"Validation r2_score \"       , r2_score( y_val_r, Validation_pred_roll))\n",
    "print(\"Test r2_score \"             , r2_score(y_test_r , roll_hat))\n",
    "print(\"\\n###########################\\n\")\n",
    "\n",
    "print(\"Train score \"                   , roll_fit_models['rfpcap'].score(X_train_r , y_train_r))\n",
    "print(\"Validation Score \"              , roll_fit_models['rfpcap'].score(X_val_r, y_val_r))\n",
    "print(\"test score: \"                   , roll_fit_models ['rfpcap'].score(X_test_r, y_test_r))\n",
    " \n",
    "print(\"\\n###########################\\n\")\n"
   ]
  },
  {
   "cell_type": "code",
   "execution_count": 62,
   "id": "31c67035",
   "metadata": {},
   "outputs": [],
   "source": [
    "with open('roll_model.pkl', 'wb') as f:\n",
    "    pickle.dump(roll_fit_models ['rfpcap'], f)"
   ]
  },
  {
   "cell_type": "markdown",
   "id": "378e6c1a",
   "metadata": {},
   "source": [
    "# ROLL WITH VOTING"
   ]
  },
  {
   "cell_type": "code",
   "execution_count": 63,
   "id": "a9dfdf79",
   "metadata": {},
   "outputs": [],
   "source": [
    "# r1 = svm.SVR(kernel='rbf')\n",
    "# r2 = DecisionTreeRegressor()\n",
    "# r3 = RandomForestRegressor(n_estimators=200)\n",
    "# r4=VotingRegressor([('r1',r1),('r2' , r2),('r3',r3)])"
   ]
  },
  {
   "cell_type": "code",
   "execution_count": 17,
   "id": "1c030192",
   "metadata": {},
   "outputs": [],
   "source": [
    "# X_train_r=PCA().fit_transform(X_train_r)\n"
   ]
  },
  {
   "cell_type": "code",
   "execution_count": 64,
   "id": "4efcbb79",
   "metadata": {},
   "outputs": [],
   "source": [
    "# r4.fit(X_train_r, y_train_r)"
   ]
  },
  {
   "cell_type": "code",
   "execution_count": 65,
   "id": "fe9d569f",
   "metadata": {},
   "outputs": [],
   "source": [
    "# Train_pred_roll     = r4.predict(X_train_r)\n",
    "# Validation_pred_roll = r4.predict(X_val_r)\n",
    "# roll_hat             =r4.predict(X_test_r)"
   ]
  },
  {
   "cell_type": "code",
   "execution_count": 66,
   "id": "d1fe4a07",
   "metadata": {},
   "outputs": [],
   "source": [
    "# print(\"Train MSE \"       , mean_squared_error( y_train_r,Train_pred_roll ))\n",
    "# print(\"Validation MSE \"  , mean_squared_error( y_val_r,Validation_pred_roll ))\n",
    "\n",
    "# print(\"\\n###########################\\n\")\n",
    "\n",
    "# print(\"Train r2_score \"            , r2_score(y_train_r,Train_pred_roll))\n",
    "# print(\"Validation r2_score \"       , r2_score( y_val_r, Validation_pred_roll))\n",
    "# print(\"Test r2_score \"             , r2_score(y_test_r , roll_hat))\n",
    "# print(\"\\n###########################\\n\")\n",
    "\n",
    "# print(\"Train score \"                   , r4.score(X_train_r , y_train_r))\n",
    "# print(\"Validation Score \"              , r4.score(X_val_r, y_val_r))\n",
    "# print(\"test score: \"                   , r4.score(X_test_r, y_test_r))\n",
    " \n",
    "# print(\"\\n###########################\\n\")\n"
   ]
  },
  {
   "cell_type": "code",
   "execution_count": null,
   "id": "dc4ccce5",
   "metadata": {},
   "outputs": [],
   "source": []
  },
  {
   "cell_type": "code",
   "execution_count": null,
   "id": "5a50ebc4",
   "metadata": {},
   "outputs": [],
   "source": []
  },
  {
   "cell_type": "code",
   "execution_count": 67,
   "id": "0b475a4c",
   "metadata": {},
   "outputs": [],
   "source": [
    "# ######## DTpca\n",
    "# Train MSE  0.0\n",
    "# Validation MSE  0.04477750019570877\n",
    "\n",
    "# ###########################\n",
    "\n",
    "# Train r2_score  1.0\n",
    "# Validation r2_score  0.4079707715766818\n",
    "# Test r2_score  0.6242046134613088\n",
    "\n",
    "# ###########################\n",
    "\n",
    "# Train score  1.0\n",
    "# Validation Score  0.4079707715766818\n",
    "# test score:  0.6242046134613088\n",
    "\n",
    "# ###########################\n",
    "\n",
    "\n",
    "#**********************************************************\n",
    " ######### rfpcap\n",
    "\n",
    "# Train MSE  0.08568100768216784\n",
    "# Validation MSE  0.015235995963917124\n",
    "\n",
    "# ###########################\n",
    "\n",
    "# Train r2_score  0.8301280943540559\n",
    "# Validation r2_score  0.7985560851911272\n",
    "# Test r2_score  0.6849495987237703\n",
    "\n",
    "# ###########################\n",
    "\n",
    "# Train score  0.8301280943540559\n",
    "# Validation Score  0.7985560851911272\n",
    "# test score:  0.6849495987237703\n",
    "\n",
    "# ###########################\n",
    "\n",
    "\n",
    "# ########### rfpcap with standard\n",
    "\n",
    "# Train MSE  0.07622373914182135\n",
    "# Validation MSE  0.01627450535743072\n",
    "\n",
    "# ###########################\n",
    "\n",
    "# Train r2_score  0.8488781566212209\n",
    "# Validation r2_score  0.7848253518481536\n",
    "# Test r2_score  0.6701656068233688\n",
    "\n",
    "# ###########################\n",
    "\n",
    "# Train score  0.8488781566212209\n",
    "# Validation Score  0.7848253518481536\n",
    "# test score:  0.6701656068233688\n",
    "\n",
    "# ###########################\n",
    "\n",
    "\n",
    "\n",
    "\n",
    "    \n",
    "    \n",
    "\n",
    "\n"
   ]
  },
  {
   "cell_type": "code",
   "execution_count": 68,
   "id": "7021d85a",
   "metadata": {},
   "outputs": [],
   "source": [
    "reg = KNeighborsRegressor(n_neighbors=7).fit(X_train_r, y_train_r)"
   ]
  },
  {
   "cell_type": "code",
   "execution_count": 69,
   "id": "d413d8e1",
   "metadata": {},
   "outputs": [],
   "source": [
    "Train_pred_roll     = reg.predict(X_train_r)\n",
    "Validation_pred_roll = reg.predict(X_val_r)\n",
    "roll_hat             =reg.predict(X_test_r)"
   ]
  },
  {
   "cell_type": "code",
   "execution_count": 70,
   "id": "9b691ef1",
   "metadata": {},
   "outputs": [
    {
     "name": "stdout",
     "output_type": "stream",
     "text": [
      "Train MSE  0.32416072133992435\n",
      "Validation MSE  0.021999683180887557\n",
      "\n",
      "###########################\n",
      "\n",
      "Train r2_score  0.35731615489581536\n",
      "Validation r2_score  0.7091294645254337\n",
      "Test r2_score  0.6558686119606822\n",
      "\n",
      "###########################\n",
      "\n"
     ]
    },
    {
     "ename": "NameError",
     "evalue": "name 'r4' is not defined",
     "output_type": "error",
     "traceback": [
      "\u001b[1;31m---------------------------------------------------------------------------\u001b[0m",
      "\u001b[1;31mNameError\u001b[0m                                 Traceback (most recent call last)",
      "\u001b[1;32m~\\AppData\\Local\\Temp/ipykernel_14740/1506189902.py\u001b[0m in \u001b[0;36m<module>\u001b[1;34m\u001b[0m\n\u001b[0;32m      9\u001b[0m \u001b[0mprint\u001b[0m\u001b[1;33m(\u001b[0m\u001b[1;34m\"\\n###########################\\n\"\u001b[0m\u001b[1;33m)\u001b[0m\u001b[1;33m\u001b[0m\u001b[1;33m\u001b[0m\u001b[0m\n\u001b[0;32m     10\u001b[0m \u001b[1;33m\u001b[0m\u001b[0m\n\u001b[1;32m---> 11\u001b[1;33m \u001b[0mprint\u001b[0m\u001b[1;33m(\u001b[0m\u001b[1;34m\"Train score \"\u001b[0m                   \u001b[1;33m,\u001b[0m \u001b[0mr4\u001b[0m\u001b[1;33m.\u001b[0m\u001b[0mscore\u001b[0m\u001b[1;33m(\u001b[0m\u001b[0mX_train_r\u001b[0m \u001b[1;33m,\u001b[0m \u001b[0my_train_r\u001b[0m\u001b[1;33m)\u001b[0m\u001b[1;33m)\u001b[0m\u001b[1;33m\u001b[0m\u001b[1;33m\u001b[0m\u001b[0m\n\u001b[0m\u001b[0;32m     12\u001b[0m \u001b[0mprint\u001b[0m\u001b[1;33m(\u001b[0m\u001b[1;34m\"Validation Score \"\u001b[0m              \u001b[1;33m,\u001b[0m \u001b[0mr4\u001b[0m\u001b[1;33m.\u001b[0m\u001b[0mscore\u001b[0m\u001b[1;33m(\u001b[0m\u001b[0mX_val_r\u001b[0m\u001b[1;33m,\u001b[0m \u001b[0my_val_r\u001b[0m\u001b[1;33m)\u001b[0m\u001b[1;33m)\u001b[0m\u001b[1;33m\u001b[0m\u001b[1;33m\u001b[0m\u001b[0m\n\u001b[0;32m     13\u001b[0m \u001b[0mprint\u001b[0m\u001b[1;33m(\u001b[0m\u001b[1;34m\"test score: \"\u001b[0m                   \u001b[1;33m,\u001b[0m \u001b[0mr4\u001b[0m\u001b[1;33m.\u001b[0m\u001b[0mscore\u001b[0m\u001b[1;33m(\u001b[0m\u001b[0mX_test_r\u001b[0m\u001b[1;33m,\u001b[0m \u001b[0my_test_r\u001b[0m\u001b[1;33m)\u001b[0m\u001b[1;33m)\u001b[0m\u001b[1;33m\u001b[0m\u001b[1;33m\u001b[0m\u001b[0m\n",
      "\u001b[1;31mNameError\u001b[0m: name 'r4' is not defined"
     ]
    }
   ],
   "source": [
    "print(\"Train MSE \"       , mean_squared_error( y_train_r,Train_pred_roll ))\n",
    "print(\"Validation MSE \"  , mean_squared_error( y_val_r,Validation_pred_roll ))\n",
    "\n",
    "print(\"\\n###########################\\n\")\n",
    "\n",
    "print(\"Train r2_score \"            , r2_score(y_train_r,Train_pred_roll))\n",
    "print(\"Validation r2_score \"       , r2_score( y_val_r, Validation_pred_roll))\n",
    "print(\"Test r2_score \"             , r2_score(y_test_r , roll_hat))\n",
    "print(\"\\n###########################\\n\")\n",
    "\n",
    "print(\"Train score \"                   , r4.score(X_train_r , y_train_r))\n",
    "print(\"Validation Score \"              , r4.score(X_val_r, y_val_r))\n",
    "print(\"test score: \"                   , r4.score(X_test_r, y_test_r))\n",
    " \n",
    "print(\"\\n###########################\\n\")"
   ]
  },
  {
   "cell_type": "code",
   "execution_count": null,
   "id": "53fa2411",
   "metadata": {},
   "outputs": [],
   "source": []
  },
  {
   "cell_type": "markdown",
   "id": "9ee3359d",
   "metadata": {},
   "source": [
    "# PITCH"
   ]
  },
  {
   "cell_type": "code",
   "execution_count": 71,
   "id": "f3af1014",
   "metadata": {},
   "outputs": [],
   "source": [
    "pipelines = {\n",
    "#     'lr_pca':make_pipeline(StandardScaler(),PCA(n_components=0.99), LinearRegression()),\n",
    "    'rf_pca':make_pipeline(StandardScaler(),PCA(n_components=0.99), RandomForestRegressor())\n",
    "#     ,'lr_wpca':make_pipeline(PCA(n_components=0.99),LinearRegression()),\n",
    "#     'rf_wpca':make_pipeline(PCA(n_components=0.99),RandomForestRegressor()),\n",
    "#     'DT'    :make_pipeline(DecisionTreeRegressor()),\n",
    "#     'DTpca' :make_pipeline(PCA(n_components=0.99),DecisionTreeRegressor()),\n",
    "#     'rfpcap' :make_pipeline(   RandomForestRegressor(n_estimators=30, n_jobs=-1))\n",
    "# \n",
    "}\n",
    "\n"
   ]
  },
  {
   "cell_type": "code",
   "execution_count": 72,
   "id": "f0f464f3",
   "metadata": {},
   "outputs": [],
   "source": [
    "pitch_fit_models = {}\n",
    "for algo, pipeline in pipelines.items():\n",
    "    model = pipeline.fit(X_train_p, y_train_p)\n",
    "    pitch_fit_models[algo] = model\n"
   ]
  },
  {
   "cell_type": "code",
   "execution_count": 73,
   "id": "4a6bb646",
   "metadata": {},
   "outputs": [],
   "source": [
    "Train_pred_pitch     = pitch_fit_models['rf_pca'].predict(X_train_p)\n",
    "Validation_pred_pitch = pitch_fit_models['rf_pca'].predict(X_val_p)\n",
    "pitch_hat=pitch_fit_models['rf_pca'].predict(X_test_p)"
   ]
  },
  {
   "cell_type": "code",
   "execution_count": 74,
   "id": "e74357bf",
   "metadata": {},
   "outputs": [
    {
     "name": "stdout",
     "output_type": "stream",
     "text": [
      "Validation MSE  0.026817255717021204\n",
      "\n",
      "###########################\n",
      "\n",
      "Train r2_score  0.8309803070793784\n",
      "Validation r2_score  0.5815553973805683\n",
      "Test r2_score  -1.9233527098302217\n",
      "\n",
      "###########################\n",
      "\n",
      "Train score  0.8309803070793784\n",
      "Validation Score  0.5815553973805683\n",
      "test score:  0.6064805935933667\n",
      "\n",
      "###########################\n",
      "\n"
     ]
    }
   ],
   "source": [
    "#### print(\"Train MSE \"       , mean_squared_error( y_train_y,Train_pred_yaw ))\n",
    "print(\"Validation MSE \"  , mean_squared_error( y_val_p,Validation_pred_pitch ))\n",
    "\n",
    "print(\"\\n###########################\\n\")\n",
    "\n",
    "print(\"Train r2_score \"            , r2_score(y_train_p,Train_pred_pitch))\n",
    "print(\"Validation r2_score \"       , r2_score( y_val_p, Validation_pred_pitch))\n",
    "print(\"Test r2_score \"             , r2_score(y_test_p , yaw_hat))\n",
    "print(\"\\n###########################\\n\")\n",
    "\n",
    "print(\"Train score \"                   , pitch_fit_models['rf_pca'].score(X_train_p , y_train_p))\n",
    "print(\"Validation Score \"              , pitch_fit_models['rf_pca'].score(X_val_p, y_val_p))\n",
    "print(\"test score: \"                   ,pitch_fit_models ['rf_pca'].score(X_test_p, y_test_p))\n",
    " \n",
    "print(\"\\n###########################\\n\")"
   ]
  },
  {
   "cell_type": "code",
   "execution_count": 75,
   "id": "e29392ed",
   "metadata": {},
   "outputs": [],
   "source": [
    "with open('pitch_model.pkl', 'wb') as f:\n",
    "    pickle.dump(pitch_fit_models ['rf_pca'], f)"
   ]
  },
  {
   "cell_type": "code",
   "execution_count": 82,
   "id": "43b326fe",
   "metadata": {},
   "outputs": [],
   "source": [
    "from math import cos ,sin"
   ]
  },
  {
   "cell_type": "code",
   "execution_count": 83,
   "id": "053c7254",
   "metadata": {},
   "outputs": [],
   "source": [
    "def draw_axis(img, pitch,yaw,roll, tdx=None, tdy=None, size = 100):\n",
    "\n",
    "\n",
    "\n",
    "    return img"
   ]
  },
  {
   "cell_type": "code",
   "execution_count": null,
   "id": "e4da80b7",
   "metadata": {},
   "outputs": [],
   "source": []
  },
  {
   "cell_type": "markdown",
   "id": "aa59fdce",
   "metadata": {},
   "source": [
    "# TRY MODELS"
   ]
  },
  {
   "cell_type": "code",
   "execution_count": 84,
   "id": "87ab6c21",
   "metadata": {},
   "outputs": [],
   "source": [
    "with open('yaw_model.pkl', 'rb') as f:\n",
    "    yaw_model = pickle.load(f)"
   ]
  },
  {
   "cell_type": "code",
   "execution_count": 85,
   "id": "c0bee972",
   "metadata": {},
   "outputs": [],
   "source": [
    "with open('pitch_model.pkl', 'rb') as f:\n",
    "    pitch_model = pickle.load(f)"
   ]
  },
  {
   "cell_type": "code",
   "execution_count": 86,
   "id": "1d66d9b2",
   "metadata": {},
   "outputs": [],
   "source": [
    "with open('roll_model.pkl', 'rb') as f:\n",
    "    roll_model = pickle.load(f)"
   ]
  },
  {
   "cell_type": "code",
   "execution_count": null,
   "id": "ccedb3e8",
   "metadata": {},
   "outputs": [],
   "source": []
  },
  {
   "cell_type": "code",
   "execution_count": 101,
   "id": "a9a26370",
   "metadata": {},
   "outputs": [],
   "source": [
    "cap = cv2.VideoCapture(0)\n",
    "# Initiate holistic model\n",
    "with mp_holistic.Holistic(min_detection_confidence=0.5, min_tracking_confidence=0.5) as holistic:\n",
    "    \n",
    "    while cap.isOpened():\n",
    "        ret, frame = cap.read()\n",
    "        \n",
    "        # Recolor Feed\n",
    "        image = cv2.cvtColor(frame, cv2.COLOR_BGR2RGB)\n",
    "        image.flags.writeable = False        \n",
    "        \n",
    "        # Make Detections\n",
    "        results = holistic.process(image)\n",
    "        # print(results.face_landmarks)\n",
    "        \n",
    "        # face_landmarks, pose_landmarks, left_hand_landmarks, right_hand_landmarks\n",
    "        \n",
    "        # Recolor image back to BGR for rendering\n",
    "        image.flags.writeable = True   \n",
    "        image = cv2.cvtColor(image, cv2.COLOR_RGB2BGR)\n",
    "        image_height, image_width, _ = image.shape\n",
    "\n",
    "        # 1. Draw face landmarks\n",
    "        mp_drawing.draw_landmarks(image, results.face_landmarks, mp_holistic.FACEMESH_TESSELATION, \n",
    "                                 mp_drawing.DrawingSpec(color=(80,110,10), thickness=1, circle_radius=1),\n",
    "                                 mp_drawing.DrawingSpec(color=(80,256,121), thickness=1, circle_radius=1)\n",
    "                                 )\n",
    "        \n",
    "        \n",
    "        \n",
    "        \n",
    "        \n",
    "        try:\n",
    "           \n",
    "            face = results.face_landmarks.landmark\n",
    "            NoseX = results.pose_landmarks.landmark[mp_holistic.PoseLandmark.NOSE].x * image_width\n",
    "            NoseY=results.pose_landmarks.landmark[mp_holistic.PoseLandmark.NOSE].y   *image_height\n",
    "            LfeoX = results.pose_landmarks.landmark[mp_holistic.PoseLandmark.LEFT_EYE_OUTER].x *image_width\n",
    "            LfeoY = results.pose_landmarks.landmark[mp_holistic.PoseLandmark.LEFT_EYE_OUTER].y* image_height\n",
    "            \n",
    "            dist = math.dist([NoseX, NoseY], [LfeoX, LfeoY])\n",
    "            face_row = list(np.array([[   ((landmark.x *image_width)-NoseX)/dist, \n",
    "                                            ((landmark.y*image_height)-NoseY)/dist] for landmark in face]).reshape(1, -1))\n",
    "            \n",
    "#             print(face_row)\n",
    "            pitch = pitch_model.predict(face_row)\n",
    "            yaw = yaw_model.predict(face_row)\n",
    "            roll = roll_model.predict(face_row)\n",
    "            \n",
    "\n",
    "#             cv2_imshow(draw_axis(image,pitch,yaw,roll))\n",
    "            yaw = -yaw\n",
    "            tdx = NoseX\n",
    "            tdy = NoseY\n",
    "            size=100\n",
    "    # X-Axis pointing to right. drawn in red\n",
    "            x1 = size * (cos(yaw) * cos(roll)) + tdx\n",
    "            y1 = size * (cos(pitch) * sin(roll) + cos(roll) * sin(pitch) * sin(yaw)) + tdy\n",
    "\n",
    "    # Y-Axis | drawn in green\n",
    "    #        v\n",
    "            x2 = size * (-cos(yaw) * sin(roll)) + tdx\n",
    "            y2 = size * (cos(pitch) * cos(roll) - sin(pitch) * sin(yaw) * sin(roll)) + tdy\n",
    "\n",
    "    # Z-Axis (out of the screen) drawn in blue\n",
    "            x3 = size * (sin(yaw)) + tdx\n",
    "            y3 = size * (-cos(yaw) * sin(pitch)) + tdy\n",
    "            cv2.line(image, (int(tdx), int(tdy)), (int(x1),int(y1)),(0,0,255),3)\n",
    "            cv2.line(image, (int(tdx), int(tdy)), (int(x2),int(y2)),(0,255,0),3)\n",
    "            cv2.line(image, (int(tdx), int(tdy)), (int(x3),int(y3)),(255,0,0),2)\n",
    "\n",
    "            \n",
    "            \n",
    "\n",
    "                \n",
    "        except:\n",
    "            pass\n",
    "\n",
    "\n",
    "        \n",
    "                        \n",
    "        cv2.imshow('Raw Webcam Feed', image)\n",
    "\n",
    "        if cv2.waitKey(10) & 0xFF == ord('q'):\n",
    "            break\n",
    "\n",
    "cap.release()\n",
    "cv2.destroyAllWindows()"
   ]
  },
  {
   "cell_type": "code",
   "execution_count": null,
   "id": "b0a36602",
   "metadata": {},
   "outputs": [],
   "source": []
  },
  {
   "cell_type": "code",
   "execution_count": null,
   "id": "adfac865",
   "metadata": {},
   "outputs": [],
   "source": []
  },
  {
   "cell_type": "code",
   "execution_count": null,
   "id": "e7b549a2",
   "metadata": {},
   "outputs": [],
   "source": []
  },
  {
   "cell_type": "code",
   "execution_count": null,
   "id": "b7ffe0ef",
   "metadata": {},
   "outputs": [],
   "source": []
  }
 ],
 "metadata": {
  "kernelspec": {
   "display_name": "Python 3 (ipykernel)",
   "language": "python",
   "name": "python3"
  },
  "language_info": {
   "codemirror_mode": {
    "name": "ipython",
    "version": 3
   },
   "file_extension": ".py",
   "mimetype": "text/x-python",
   "name": "python",
   "nbconvert_exporter": "python",
   "pygments_lexer": "ipython3",
   "version": "3.9.7"
  }
 },
 "nbformat": 4,
 "nbformat_minor": 5
}
