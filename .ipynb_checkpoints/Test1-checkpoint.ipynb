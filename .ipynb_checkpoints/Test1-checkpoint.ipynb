{
 "cells": [
  {
   "cell_type": "code",
   "execution_count": 1,
   "id": "e1d19fb3-3ff3-46dd-ae35-ac798ef1a684",
   "metadata": {},
   "outputs": [],
   "source": [
    "## Imporing and Installing"
   ]
  },
  {
   "cell_type": "code",
   "execution_count": 6,
   "id": "0dfb985b-c0d0-4828-a3d9-010ce9eb1e65",
   "metadata": {},
   "outputs": [],
   "source": [
    "# %%capture\n",
    "# !pip install mediapipe\n",
    "# !pip install scipy\n",
    "# !pip install pathlib\n",
    "# !pip install mediapipe opencv-python pandas scikit-learn"
   ]
  },
  {
   "cell_type": "code",
   "execution_count": 1,
   "id": "5482f521-59f3-4d23-b2b6-82546dacd100",
   "metadata": {},
   "outputs": [],
   "source": [
    "import numpy as np\n",
    "import os,cv2,math,glob,random\n",
    "import scipy.io as sio\n",
    "from math import cos, sin\n",
    "from pathlib import Path\n",
    "import pandas as pd\n",
    "import mediapipe as mp\n",
    "# import cv2 # Import opencv\n",
    "import warnings\n",
    "warnings.filterwarnings('ignore')\n",
    "# from google.colab.patches import cv2_imshow\n",
    "\n"
   ]
  },
  {
   "cell_type": "code",
   "execution_count": 2,
   "id": "abb47a95-62a6-47a6-8631-8927782708c4",
   "metadata": {},
   "outputs": [],
   "source": [
    "mp_drawing = mp.solutions.drawing_utils # Drawing helpers\n",
    "mp_holistic = mp.solutions.holistic # Mediapipe Solutions"
   ]
  },
  {
   "cell_type": "code",
   "execution_count": 3,
   "id": "b2c18a4d-e485-4f2e-afd0-87761eb39b26",
   "metadata": {},
   "outputs": [],
   "source": [
    "# with mp_holistic.Holistic(min_detection_confidence=0.5, min_tracking_confidence=0.5) as holistic:\n",
    "\n",
    "# #   img_names_without_jpg= [name.replace('.jpg' , '') for name in img_names]\n",
    "\n",
    "#   for idx, file in enumerate(folder_path + s for s in img_names):\n",
    "#     image = cv2.imread(file)\n",
    "#     image_height, image_width, _ = image.shape\n",
    "# #         Convert the BGR image to RGB before processing.\n",
    "#     results = holistic.process(cv2.cvtColor(image, cv2.COLOR_BGR2RGB))\n",
    "\n",
    "#     try:\n",
    "#         face = results.face_landmarks.landmark\n",
    "#         NoseX = results.pose_landmarks.landmark[mp_holistic.PoseLandmark.NOSE].x * image_width        \n",
    "#         NoseY=results.pose_landmarks.landmark[mp_holistic.PoseLandmark.NOSE].y   *image_height\n",
    "#         LfeoX = results.pose_landmarks.landmark[mp_holistic.PoseLandmark.LEFT_EYE_OUTER].x *image_width\n",
    "#         LfeoY = results.pose_landmarks.landmark[mp_holistic.PoseLandmark.LEFT_EYE_OUTER].y* image_height\n",
    "#         dist = math.dist([NoseX, NoseY], [LfeoX, LfeoY])\n",
    "\n",
    "\n",
    "\n",
    "\n",
    "\n",
    "\n",
    "#         face_row = list(np.array([[   ((landmark.x *image_width)-NoseX)/dist, \n",
    "#                                                 ((landmark.y*image_height)-NoseY)/dist] for landmark in face]).flatten())\n",
    "\n",
    "\n",
    "#         mat_file = sio.loadmat(  folder_path + img_names_without_jpg[idx] + '.mat')\n",
    "\n",
    "#     #       print(mat_file)\n",
    "\n",
    "#         pose_para = mat_file[\"Pose_Para\"][0][:3]\n",
    "#         pitch = pose_para[0]\n",
    "#         yaw = pose_para[1]\n",
    "#         roll = pose_para[2]\n",
    "#         face_row.insert(((468*2)+0),pitch)\n",
    "#         face_row.insert(((468*2)+1),yaw)\n",
    "#         face_row.insert(((468*2)+2),roll)\n",
    "\n",
    "#         with open('C:\\\\Users\\\\Siddik\\#ITI_PC\\ML 1\\Project\\content/' + 'landmarks_data.csv', mode='a', newline='') as f:\n",
    "#             csv_writer = csv.writer(f, delimiter=',', quotechar='\"', quoting=csv.QUOTE_MINIMAL)\n",
    "#             csv_writer.writerow(face_row)\n",
    "\n",
    "        \n",
    "#     except:\n",
    "#         pass\n",
    "        "
   ]
  },
  {
   "cell_type": "code",
   "execution_count": null,
   "id": "a112f411",
   "metadata": {},
   "outputs": [],
   "source": []
  }
 ],
 "metadata": {
  "kernelspec": {
   "display_name": "Python 3 (ipykernel)",
   "language": "python",
   "name": "python3"
  },
  "language_info": {
   "codemirror_mode": {
    "name": "ipython",
    "version": 3
   },
   "file_extension": ".py",
   "mimetype": "text/x-python",
   "name": "python",
   "nbconvert_exporter": "python",
   "pygments_lexer": "ipython3",
   "version": "3.9.7"
  }
 },
 "nbformat": 4,
 "nbformat_minor": 5
}
